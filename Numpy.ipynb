{
 "cells": [
  {
   "cell_type": "code",
   "execution_count": null,
   "metadata": {},
   "outputs": [],
   "source": [
    "\"\"\"\n",
    "Two primary data structure of panda is series - (1-D) and Dataframe (2-D)\n",
    "\"\"\""
   ]
  },
  {
   "cell_type": "code",
   "execution_count": 68,
   "metadata": {},
   "outputs": [
    {
     "data": {
      "text/plain": [
       "array([  0.        ,  11.11111111,  22.22222222,  33.33333333,\n",
       "        44.44444444,  55.55555556,  66.66666667,  77.77777778,\n",
       "        88.88888889, 100.        ])"
      ]
     },
     "execution_count": 68,
     "metadata": {},
     "output_type": "execute_result"
    }
   ],
   "source": [
    "import numpy as np\n",
    "np.arange(10).reshape(2,5)\n",
    "np.array([1,2,3])\n",
    "np.zeros(3,dtype=np.int32)\n",
    "np.linspace(0,100,10)"
   ]
  },
  {
   "cell_type": "code",
   "execution_count": 25,
   "metadata": {},
   "outputs": [
    {
     "data": {
      "image/png": "[encoded data removed]",
      "text/plain": [
       "<Figure size 432x288 with 1 Axes>"
      ]
     },
     "metadata": {
      "needs_background": "light"
     },
     "output_type": "display_data"
    }
   ],
   "source": [
    "import pandas as pd\n",
    "import matplotlib.pyplot as plt\n",
    "data = pd.read_excel('C:\\Project\\JX1\\Test Sheet JX1\\JX1_ILCU TestCase(Req Ver 2.08).xlsx', sheetname=\"VTEMP_DRL\") # can also index sheet by name or fetch all sheets\n",
    "data\n",
    "\n",
    "Resistance = data.iloc[113:,2].tolist()\n",
    "\n",
    "stddomcurrent = data.iloc[113:,9].tolist()\n",
    "stdnascurrent = data.iloc[113:,10].tolist()\n",
    "optcurrent = data.iloc[113:,8].tolist()\n",
    "\n",
    "plt.plot(Resistance,stddomcurrent,label='STD-DOM',color='orange')\n",
    "plt.plot(Resistance,stdnascurrent,label='STD-NAS',color='red')\n",
    "plt.plot(Resistance,optcurrent,label='OPT-DOM',color='black')\n",
    "\n",
    "plt.xlabel(\"Resistance-ohm\")\n",
    "plt.ylabel(\"Current-mA\")\n",
    "plt.title(\"NTC Graph\")\n",
    "plt.legend()\n",
    "plt.show()\n"
   ]
  },
  {
   "cell_type": "code",
   "execution_count": 3,
   "metadata": {},
   "outputs": [
    {
     "data": {
      "text/html": [
       "<div>\n",
       "<style scoped>\n",
       "    .dataframe tbody tr th:only-of-type {\n",
       "        vertical-align: middle;\n",
       "    }\n",
       "\n",
       "    .dataframe tbody tr th {\n",
       "        vertical-align: top;\n",
       "    }\n",
       "\n",
       "    .dataframe thead th {\n",
       "        text-align: right;\n",
       "    }\n",
       "</style>\n",
       "<table border=\"1\" class=\"dataframe\">\n",
       "  <thead>\n",
       "    <tr style=\"text-align: right;\">\n",
       "      <th></th>\n",
       "      <th>Unnamed: 0</th>\n",
       "      <th>Unnamed: 1</th>\n",
       "      <th>Unnamed: 2</th>\n",
       "      <th>Unnamed: 3</th>\n",
       "      <th>Unnamed: 4</th>\n",
       "      <th>Unnamed: 5</th>\n",
       "      <th>Unnamed: 6</th>\n",
       "      <th>Unnamed: 7</th>\n",
       "      <th>Unnamed: 8</th>\n",
       "      <th>Unnamed: 9</th>\n",
       "      <th>Unnamed: 10</th>\n",
       "      <th>Unnamed: 11</th>\n",
       "      <th>Unnamed: 12</th>\n",
       "    </tr>\n",
       "  </thead>\n",
       "  <tbody>\n",
       "    <tr>\n",
       "      <th>0</th>\n",
       "      <td>NaN</td>\n",
       "      <td>NaN</td>\n",
       "      <td>NaN</td>\n",
       "      <td>NaN</td>\n",
       "      <td>NaN</td>\n",
       "      <td>NaN</td>\n",
       "      <td>NaN</td>\n",
       "      <td>NaN</td>\n",
       "      <td>NaN</td>\n",
       "      <td>NaN</td>\n",
       "      <td>NaN</td>\n",
       "      <td>NaN</td>\n",
       "      <td>NaN</td>\n",
       "    </tr>\n",
       "    <tr>\n",
       "      <th>1</th>\n",
       "      <td>NaN</td>\n",
       "      <td>LED 온도 센싱</td>\n",
       "      <td>NaN</td>\n",
       "      <td>NaN</td>\n",
       "      <td>NaN</td>\n",
       "      <td>NaN</td>\n",
       "      <td>NaN</td>\n",
       "      <td>NaN</td>\n",
       "      <td>NaN</td>\n",
       "      <td>NaN</td>\n",
       "      <td>NaN</td>\n",
       "      <td>NaN</td>\n",
       "      <td>NaN</td>\n",
       "    </tr>\n",
       "    <tr>\n",
       "      <th>2</th>\n",
       "      <td>NaN</td>\n",
       "      <td>NaN</td>\n",
       "      <td>NaN</td>\n",
       "      <td>NaN</td>\n",
       "      <td>NaN</td>\n",
       "      <td>NaN</td>\n",
       "      <td>NaN</td>\n",
       "      <td>NaN</td>\n",
       "      <td>NaN</td>\n",
       "      <td>NaN</td>\n",
       "      <td>NaN</td>\n",
       "      <td>NaN</td>\n",
       "      <td>NaN</td>\n",
       "    </tr>\n",
       "    <tr>\n",
       "      <th>3</th>\n",
       "      <td>NaN</td>\n",
       "      <td>NaN</td>\n",
       "      <td>NaN</td>\n",
       "      <td>NaN</td>\n",
       "      <td>NaN</td>\n",
       "      <td>NaN</td>\n",
       "      <td>NaN</td>\n",
       "      <td>NaN</td>\n",
       "      <td>NaN</td>\n",
       "      <td>NaN</td>\n",
       "      <td>NaN</td>\n",
       "      <td>NaN</td>\n",
       "      <td>NaN</td>\n",
       "    </tr>\n",
       "    <tr>\n",
       "      <th>4</th>\n",
       "      <td>NaN</td>\n",
       "      <td>보드온도 (℃)</td>\n",
       "      <td>NTC 저항값 (Ω)</td>\n",
       "      <td>V_TEMP (V)</td>\n",
       "      <td>ADTemp</td>\n",
       "      <td>0.7</td>\n",
       "      <td>0.8</td>\n",
       "      <td>출력전류 Detating Ratio</td>\n",
       "      <td>NaN</td>\n",
       "      <td>NaN</td>\n",
       "      <td>NaN</td>\n",
       "      <td>NaN</td>\n",
       "      <td>NaN</td>\n",
       "    </tr>\n",
       "  </tbody>\n",
       "</table>\n",
       "</div>"
      ],
      "text/plain": [
       "   Unnamed: 0 Unnamed: 1   Unnamed: 2  Unnamed: 3 Unnamed: 4 Unnamed: 5  \\\n",
       "0         NaN        NaN          NaN         NaN        NaN        NaN   \n",
       "1         NaN  LED 온도 센싱          NaN         NaN        NaN        NaN   \n",
       "2         NaN        NaN          NaN         NaN        NaN        NaN   \n",
       "3         NaN        NaN          NaN         NaN        NaN        NaN   \n",
       "4         NaN   보드온도 (℃)  NTC 저항값 (Ω)  V_TEMP (V)   ADTemp          0.7   \n",
       "\n",
       "  Unnamed: 6           Unnamed: 7 Unnamed: 8 Unnamed: 9 Unnamed: 10  \\\n",
       "0        NaN                  NaN        NaN        NaN         NaN   \n",
       "1        NaN                  NaN        NaN        NaN         NaN   \n",
       "2        NaN                  NaN        NaN        NaN         NaN   \n",
       "3        NaN                  NaN        NaN        NaN         NaN   \n",
       "4        0.8  출력전류 Detating Ratio        NaN        NaN         NaN   \n",
       "\n",
       "   Unnamed: 11  Unnamed: 12  \n",
       "0          NaN          NaN  \n",
       "1          NaN          NaN  \n",
       "2          NaN          NaN  \n",
       "3          NaN          NaN  \n",
       "4          NaN          NaN  "
      ]
     },
     "execution_count": 3,
     "metadata": {},
     "output_type": "execute_result"
    }
   ],
   "source": [
    "import pandas as pd\n",
    "import matplotlib.pyplot as plt\n",
    "data = pd.read_excel('C:\\Project\\JX1\\Test Sheet JX1\\JX1_ILCU TestCase(Req Ver 2.08).xlsx', sheetname=\"VTEMP_DRL\") # can also index sheet by name or fetch all sheets\n",
    "data.head()"
   ]
  },
  {
   "cell_type": "code",
   "execution_count": 1,
   "metadata": {},
   "outputs": [
    {
     "data": {
      "text/plain": [
       "0    1.0\n",
       "1    2.0\n",
       "2    3.0\n",
       "3    NaN\n",
       "4    4.0\n",
       "dtype: float64"
      ]
     },
     "execution_count": 1,
     "metadata": {},
     "output_type": "execute_result"
    }
   ],
   "source": [
    "import numpy as np\n",
    "import pandas as pd\n",
    "s = pd.Series([1,2,3,np.nan,4])\n",
    "s"
   ]
  },
  {
   "cell_type": "code",
   "execution_count": 3,
   "metadata": {},
   "outputs": [
    {
     "data": {
      "text/html": [
       "<div>\n",
       "<style scoped>\n",
       "    .dataframe tbody tr th:only-of-type {\n",
       "        vertical-align: middle;\n",
       "    }\n",
       "\n",
       "    .dataframe tbody tr th {\n",
       "        vertical-align: top;\n",
       "    }\n",
       "\n",
       "    .dataframe thead th {\n",
       "        text-align: right;\n",
       "    }\n",
       "</style>\n",
       "<table border=\"1\" class=\"dataframe\">\n",
       "  <thead>\n",
       "    <tr style=\"text-align: right;\">\n",
       "      <th></th>\n",
       "      <th>A</th>\n",
       "      <th>B</th>\n",
       "      <th>C</th>\n",
       "      <th>D</th>\n",
       "    </tr>\n",
       "  </thead>\n",
       "  <tbody>\n",
       "    <tr>\n",
       "      <th>2010-02-20</th>\n",
       "      <td>1.188165</td>\n",
       "      <td>0.531428</td>\n",
       "      <td>-0.131320</td>\n",
       "      <td>-1.830596</td>\n",
       "    </tr>\n",
       "    <tr>\n",
       "      <th>2010-02-21</th>\n",
       "      <td>-0.968218</td>\n",
       "      <td>-0.569534</td>\n",
       "      <td>1.161447</td>\n",
       "      <td>-0.847785</td>\n",
       "    </tr>\n",
       "    <tr>\n",
       "      <th>2010-02-22</th>\n",
       "      <td>0.693218</td>\n",
       "      <td>0.397371</td>\n",
       "      <td>-1.665097</td>\n",
       "      <td>-0.475489</td>\n",
       "    </tr>\n",
       "    <tr>\n",
       "      <th>2010-02-23</th>\n",
       "      <td>2.189689</td>\n",
       "      <td>-0.606387</td>\n",
       "      <td>1.885121</td>\n",
       "      <td>0.197150</td>\n",
       "    </tr>\n",
       "    <tr>\n",
       "      <th>2010-02-24</th>\n",
       "      <td>-0.084283</td>\n",
       "      <td>0.511063</td>\n",
       "      <td>-1.854853</td>\n",
       "      <td>0.236338</td>\n",
       "    </tr>\n",
       "    <tr>\n",
       "      <th>2010-02-25</th>\n",
       "      <td>-0.118744</td>\n",
       "      <td>1.009226</td>\n",
       "      <td>-0.542521</td>\n",
       "      <td>-0.639018</td>\n",
       "    </tr>\n",
       "  </tbody>\n",
       "</table>\n",
       "</div>"
      ],
      "text/plain": [
       "                   A         B         C         D\n",
       "2010-02-20  1.188165  0.531428 -0.131320 -1.830596\n",
       "2010-02-21 -0.968218 -0.569534  1.161447 -0.847785\n",
       "2010-02-22  0.693218  0.397371 -1.665097 -0.475489\n",
       "2010-02-23  2.189689 -0.606387  1.885121  0.197150\n",
       "2010-02-24 -0.084283  0.511063 -1.854853  0.236338\n",
       "2010-02-25 -0.118744  1.009226 -0.542521 -0.639018"
      ]
     },
     "execution_count": 3,
     "metadata": {},
     "output_type": "execute_result"
    }
   ],
   "source": [
    "dates = pd.date_range('20100220',periods = 6)\n",
    "dates\n",
    "dataframe = pd.DataFrame(np.random.randn(6,4),index=dates,columns=list('ABCD'))\n",
    "dataframe"
   ]
  },
  {
   "cell_type": "code",
   "execution_count": 5,
   "metadata": {},
   "outputs": [
    {
     "data": {
      "text/html": [
       "<div>\n",
       "<style scoped>\n",
       "    .dataframe tbody tr th:only-of-type {\n",
       "        vertical-align: middle;\n",
       "    }\n",
       "\n",
       "    .dataframe tbody tr th {\n",
       "        vertical-align: top;\n",
       "    }\n",
       "\n",
       "    .dataframe thead th {\n",
       "        text-align: right;\n",
       "    }\n",
       "</style>\n",
       "<table border=\"1\" class=\"dataframe\">\n",
       "  <thead>\n",
       "    <tr style=\"text-align: right;\">\n",
       "      <th></th>\n",
       "      <th>A</th>\n",
       "      <th>B</th>\n",
       "      <th>C</th>\n",
       "      <th>D</th>\n",
       "    </tr>\n",
       "  </thead>\n",
       "  <tbody>\n",
       "    <tr>\n",
       "      <th>2012-06-03</th>\n",
       "      <td>-2.389347</td>\n",
       "      <td>-0.791677</td>\n",
       "      <td>1.864332</td>\n",
       "      <td>-2.078145</td>\n",
       "    </tr>\n",
       "    <tr>\n",
       "      <th>2012-06-04</th>\n",
       "      <td>0.701684</td>\n",
       "      <td>-0.495531</td>\n",
       "      <td>-1.001909</td>\n",
       "      <td>-0.514575</td>\n",
       "    </tr>\n",
       "    <tr>\n",
       "      <th>2012-06-05</th>\n",
       "      <td>-1.113315</td>\n",
       "      <td>0.114260</td>\n",
       "      <td>0.411386</td>\n",
       "      <td>-0.523646</td>\n",
       "    </tr>\n",
       "    <tr>\n",
       "      <th>2012-06-06</th>\n",
       "      <td>0.474331</td>\n",
       "      <td>1.476936</td>\n",
       "      <td>0.308228</td>\n",
       "      <td>-0.038482</td>\n",
       "    </tr>\n",
       "    <tr>\n",
       "      <th>2012-06-07</th>\n",
       "      <td>0.592223</td>\n",
       "      <td>-1.305360</td>\n",
       "      <td>-0.372611</td>\n",
       "      <td>2.713747</td>\n",
       "    </tr>\n",
       "    <tr>\n",
       "      <th>2012-06-08</th>\n",
       "      <td>-0.355002</td>\n",
       "      <td>-1.139501</td>\n",
       "      <td>-0.661798</td>\n",
       "      <td>0.054908</td>\n",
       "    </tr>\n",
       "    <tr>\n",
       "      <th>2012-06-09</th>\n",
       "      <td>1.158736</td>\n",
       "      <td>-0.986318</td>\n",
       "      <td>0.859505</td>\n",
       "      <td>1.113772</td>\n",
       "    </tr>\n",
       "    <tr>\n",
       "      <th>2012-06-10</th>\n",
       "      <td>-0.079099</td>\n",
       "      <td>-1.296130</td>\n",
       "      <td>0.980639</td>\n",
       "      <td>0.169392</td>\n",
       "    </tr>\n",
       "    <tr>\n",
       "      <th>2012-06-11</th>\n",
       "      <td>-0.419815</td>\n",
       "      <td>0.221524</td>\n",
       "      <td>0.674725</td>\n",
       "      <td>-1.366135</td>\n",
       "    </tr>\n",
       "  </tbody>\n",
       "</table>\n",
       "</div>"
      ],
      "text/plain": [
       "                   A         B         C         D\n",
       "2012-06-03 -2.389347 -0.791677  1.864332 -2.078145\n",
       "2012-06-04  0.701684 -0.495531 -1.001909 -0.514575\n",
       "2012-06-05 -1.113315  0.114260  0.411386 -0.523646\n",
       "2012-06-06  0.474331  1.476936  0.308228 -0.038482\n",
       "2012-06-07  0.592223 -1.305360 -0.372611  2.713747\n",
       "2012-06-08 -0.355002 -1.139501 -0.661798  0.054908\n",
       "2012-06-09  1.158736 -0.986318  0.859505  1.113772\n",
       "2012-06-10 -0.079099 -1.296130  0.980639  0.169392\n",
       "2012-06-11 -0.419815  0.221524  0.674725 -1.366135"
      ]
     },
     "execution_count": 5,
     "metadata": {},
     "output_type": "execute_result"
    }
   ],
   "source": [
    "dates = pd.date_range('20120603',periods=9)\n",
    "df = pd.DataFrame(np.random.randn(9,4),index=dates,columns=list('ABCD'))\n",
    "df"
   ]
  },
  {
   "cell_type": "code",
   "execution_count": 6,
   "metadata": {},
   "outputs": [
    {
     "data": {
      "text/plain": [
       "Index(['A', 'B', 'C', 'D'], dtype='object')"
      ]
     },
     "execution_count": 6,
     "metadata": {},
     "output_type": "execute_result"
    }
   ],
   "source": [
    "df.columns"
   ]
  },
  {
   "cell_type": "code",
   "execution_count": 7,
   "metadata": {},
   "outputs": [
    {
     "data": {
      "text/plain": [
       "array([[-2.3893475 , -0.79167669,  1.86433194, -2.0781452 ],\n",
       "       [ 0.70168377, -0.49553096, -1.00190938, -0.51457451],\n",
       "       [-1.11331483,  0.11425992,  0.41138642, -0.52364616],\n",
       "       [ 0.47433057,  1.47693556,  0.30822805, -0.03848171],\n",
       "       [ 0.59222313, -1.30536046, -0.37261086,  2.71374708],\n",
       "       [-0.35500222, -1.13950124, -0.6617978 ,  0.05490815],\n",
       "       [ 1.15873632, -0.98631845,  0.85950534,  1.11377215],\n",
       "       [-0.07909948, -1.29612959,  0.9806385 ,  0.16939232],\n",
       "       [-0.41981476,  0.22152383,  0.67472531, -1.36613453]])"
      ]
     },
     "execution_count": 7,
     "metadata": {},
     "output_type": "execute_result"
    }
   ],
   "source": [
    "df.to_numpy()"
   ]
  },
  {
   "cell_type": "code",
   "execution_count": 8,
   "metadata": {},
   "outputs": [
    {
     "data": {
      "text/html": [
       "<div>\n",
       "<style scoped>\n",
       "    .dataframe tbody tr th:only-of-type {\n",
       "        vertical-align: middle;\n",
       "    }\n",
       "\n",
       "    .dataframe tbody tr th {\n",
       "        vertical-align: top;\n",
       "    }\n",
       "\n",
       "    .dataframe thead th {\n",
       "        text-align: right;\n",
       "    }\n",
       "</style>\n",
       "<table border=\"1\" class=\"dataframe\">\n",
       "  <thead>\n",
       "    <tr style=\"text-align: right;\">\n",
       "      <th></th>\n",
       "      <th>A</th>\n",
       "      <th>B</th>\n",
       "      <th>C</th>\n",
       "      <th>D</th>\n",
       "    </tr>\n",
       "  </thead>\n",
       "  <tbody>\n",
       "    <tr>\n",
       "      <th>count</th>\n",
       "      <td>9.000000</td>\n",
       "      <td>9.000000</td>\n",
       "      <td>9.000000</td>\n",
       "      <td>9.000000</td>\n",
       "    </tr>\n",
       "    <tr>\n",
       "      <th>mean</th>\n",
       "      <td>-0.158845</td>\n",
       "      <td>-0.466866</td>\n",
       "      <td>0.340278</td>\n",
       "      <td>-0.052129</td>\n",
       "    </tr>\n",
       "    <tr>\n",
       "      <th>std</th>\n",
       "      <td>1.086315</td>\n",
       "      <td>0.922584</td>\n",
       "      <td>0.896812</td>\n",
       "      <td>1.384632</td>\n",
       "    </tr>\n",
       "    <tr>\n",
       "      <th>min</th>\n",
       "      <td>-2.389347</td>\n",
       "      <td>-1.305360</td>\n",
       "      <td>-1.001909</td>\n",
       "      <td>-2.078145</td>\n",
       "    </tr>\n",
       "    <tr>\n",
       "      <th>25%</th>\n",
       "      <td>-0.419815</td>\n",
       "      <td>-1.139501</td>\n",
       "      <td>-0.372611</td>\n",
       "      <td>-0.523646</td>\n",
       "    </tr>\n",
       "    <tr>\n",
       "      <th>50%</th>\n",
       "      <td>-0.079099</td>\n",
       "      <td>-0.791677</td>\n",
       "      <td>0.411386</td>\n",
       "      <td>-0.038482</td>\n",
       "    </tr>\n",
       "    <tr>\n",
       "      <th>75%</th>\n",
       "      <td>0.592223</td>\n",
       "      <td>0.114260</td>\n",
       "      <td>0.859505</td>\n",
       "      <td>0.169392</td>\n",
       "    </tr>\n",
       "    <tr>\n",
       "      <th>max</th>\n",
       "      <td>1.158736</td>\n",
       "      <td>1.476936</td>\n",
       "      <td>1.864332</td>\n",
       "      <td>2.713747</td>\n",
       "    </tr>\n",
       "  </tbody>\n",
       "</table>\n",
       "</div>"
      ],
      "text/plain": [
       "              A         B         C         D\n",
       "count  9.000000  9.000000  9.000000  9.000000\n",
       "mean  -0.158845 -0.466866  0.340278 -0.052129\n",
       "std    1.086315  0.922584  0.896812  1.384632\n",
       "min   -2.389347 -1.305360 -1.001909 -2.078145\n",
       "25%   -0.419815 -1.139501 -0.372611 -0.523646\n",
       "50%   -0.079099 -0.791677  0.411386 -0.038482\n",
       "75%    0.592223  0.114260  0.859505  0.169392\n",
       "max    1.158736  1.476936  1.864332  2.713747"
      ]
     },
     "execution_count": 8,
     "metadata": {},
     "output_type": "execute_result"
    }
   ],
   "source": [
    "df.describe()#shows a quick statistic summary of data"
   ]
  },
  {
   "cell_type": "code",
   "execution_count": 9,
   "metadata": {},
   "outputs": [
    {
     "data": {
      "text/html": [
       "<div>\n",
       "<style scoped>\n",
       "    .dataframe tbody tr th:only-of-type {\n",
       "        vertical-align: middle;\n",
       "    }\n",
       "\n",
       "    .dataframe tbody tr th {\n",
       "        vertical-align: top;\n",
       "    }\n",
       "\n",
       "    .dataframe thead th {\n",
       "        text-align: right;\n",
       "    }\n",
       "</style>\n",
       "<table border=\"1\" class=\"dataframe\">\n",
       "  <thead>\n",
       "    <tr style=\"text-align: right;\">\n",
       "      <th></th>\n",
       "      <th>2012-06-03 00:00:00</th>\n",
       "      <th>2012-06-04 00:00:00</th>\n",
       "      <th>2012-06-05 00:00:00</th>\n",
       "      <th>2012-06-06 00:00:00</th>\n",
       "      <th>2012-06-07 00:00:00</th>\n",
       "      <th>2012-06-08 00:00:00</th>\n",
       "      <th>2012-06-09 00:00:00</th>\n",
       "      <th>2012-06-10 00:00:00</th>\n",
       "      <th>2012-06-11 00:00:00</th>\n",
       "    </tr>\n",
       "  </thead>\n",
       "  <tbody>\n",
       "    <tr>\n",
       "      <th>A</th>\n",
       "      <td>-2.389347</td>\n",
       "      <td>0.701684</td>\n",
       "      <td>-1.113315</td>\n",
       "      <td>0.474331</td>\n",
       "      <td>0.592223</td>\n",
       "      <td>-0.355002</td>\n",
       "      <td>1.158736</td>\n",
       "      <td>-0.079099</td>\n",
       "      <td>-0.419815</td>\n",
       "    </tr>\n",
       "    <tr>\n",
       "      <th>B</th>\n",
       "      <td>-0.791677</td>\n",
       "      <td>-0.495531</td>\n",
       "      <td>0.114260</td>\n",
       "      <td>1.476936</td>\n",
       "      <td>-1.305360</td>\n",
       "      <td>-1.139501</td>\n",
       "      <td>-0.986318</td>\n",
       "      <td>-1.296130</td>\n",
       "      <td>0.221524</td>\n",
       "    </tr>\n",
       "    <tr>\n",
       "      <th>C</th>\n",
       "      <td>1.864332</td>\n",
       "      <td>-1.001909</td>\n",
       "      <td>0.411386</td>\n",
       "      <td>0.308228</td>\n",
       "      <td>-0.372611</td>\n",
       "      <td>-0.661798</td>\n",
       "      <td>0.859505</td>\n",
       "      <td>0.980639</td>\n",
       "      <td>0.674725</td>\n",
       "    </tr>\n",
       "    <tr>\n",
       "      <th>D</th>\n",
       "      <td>-2.078145</td>\n",
       "      <td>-0.514575</td>\n",
       "      <td>-0.523646</td>\n",
       "      <td>-0.038482</td>\n",
       "      <td>2.713747</td>\n",
       "      <td>0.054908</td>\n",
       "      <td>1.113772</td>\n",
       "      <td>0.169392</td>\n",
       "      <td>-1.366135</td>\n",
       "    </tr>\n",
       "  </tbody>\n",
       "</table>\n",
       "</div>"
      ],
      "text/plain": [
       "   2012-06-03  2012-06-04  2012-06-05  2012-06-06  2012-06-07  2012-06-08  \\\n",
       "A   -2.389347    0.701684   -1.113315    0.474331    0.592223   -0.355002   \n",
       "B   -0.791677   -0.495531    0.114260    1.476936   -1.305360   -1.139501   \n",
       "C    1.864332   -1.001909    0.411386    0.308228   -0.372611   -0.661798   \n",
       "D   -2.078145   -0.514575   -0.523646   -0.038482    2.713747    0.054908   \n",
       "\n",
       "   2012-06-09  2012-06-10  2012-06-11  \n",
       "A    1.158736   -0.079099   -0.419815  \n",
       "B   -0.986318   -1.296130    0.221524  \n",
       "C    0.859505    0.980639    0.674725  \n",
       "D    1.113772    0.169392   -1.366135  "
      ]
     },
     "execution_count": 9,
     "metadata": {},
     "output_type": "execute_result"
    }
   ],
   "source": [
    "#Transpose your data\n",
    "df.T"
   ]
  },
  {
   "cell_type": "code",
   "execution_count": 10,
   "metadata": {},
   "outputs": [
    {
     "data": {
      "text/html": [
       "<div>\n",
       "<style scoped>\n",
       "    .dataframe tbody tr th:only-of-type {\n",
       "        vertical-align: middle;\n",
       "    }\n",
       "\n",
       "    .dataframe tbody tr th {\n",
       "        vertical-align: top;\n",
       "    }\n",
       "\n",
       "    .dataframe thead th {\n",
       "        text-align: right;\n",
       "    }\n",
       "</style>\n",
       "<table border=\"1\" class=\"dataframe\">\n",
       "  <thead>\n",
       "    <tr style=\"text-align: right;\">\n",
       "      <th></th>\n",
       "      <th>A</th>\n",
       "      <th>B</th>\n",
       "      <th>C</th>\n",
       "      <th>D</th>\n",
       "    </tr>\n",
       "  </thead>\n",
       "  <tbody>\n",
       "    <tr>\n",
       "      <th>2012-06-03</th>\n",
       "      <td>-2.389347</td>\n",
       "      <td>-0.791677</td>\n",
       "      <td>1.864332</td>\n",
       "      <td>-2.078145</td>\n",
       "    </tr>\n",
       "    <tr>\n",
       "      <th>2012-06-04</th>\n",
       "      <td>0.701684</td>\n",
       "      <td>-0.495531</td>\n",
       "      <td>-1.001909</td>\n",
       "      <td>-0.514575</td>\n",
       "    </tr>\n",
       "    <tr>\n",
       "      <th>2012-06-05</th>\n",
       "      <td>-1.113315</td>\n",
       "      <td>0.114260</td>\n",
       "      <td>0.411386</td>\n",
       "      <td>-0.523646</td>\n",
       "    </tr>\n",
       "    <tr>\n",
       "      <th>2012-06-06</th>\n",
       "      <td>0.474331</td>\n",
       "      <td>1.476936</td>\n",
       "      <td>0.308228</td>\n",
       "      <td>-0.038482</td>\n",
       "    </tr>\n",
       "    <tr>\n",
       "      <th>2012-06-07</th>\n",
       "      <td>0.592223</td>\n",
       "      <td>-1.305360</td>\n",
       "      <td>-0.372611</td>\n",
       "      <td>2.713747</td>\n",
       "    </tr>\n",
       "    <tr>\n",
       "      <th>2012-06-08</th>\n",
       "      <td>-0.355002</td>\n",
       "      <td>-1.139501</td>\n",
       "      <td>-0.661798</td>\n",
       "      <td>0.054908</td>\n",
       "    </tr>\n",
       "    <tr>\n",
       "      <th>2012-06-09</th>\n",
       "      <td>1.158736</td>\n",
       "      <td>-0.986318</td>\n",
       "      <td>0.859505</td>\n",
       "      <td>1.113772</td>\n",
       "    </tr>\n",
       "    <tr>\n",
       "      <th>2012-06-10</th>\n",
       "      <td>-0.079099</td>\n",
       "      <td>-1.296130</td>\n",
       "      <td>0.980639</td>\n",
       "      <td>0.169392</td>\n",
       "    </tr>\n",
       "    <tr>\n",
       "      <th>2012-06-11</th>\n",
       "      <td>-0.419815</td>\n",
       "      <td>0.221524</td>\n",
       "      <td>0.674725</td>\n",
       "      <td>-1.366135</td>\n",
       "    </tr>\n",
       "  </tbody>\n",
       "</table>\n",
       "</div>"
      ],
      "text/plain": [
       "                   A         B         C         D\n",
       "2012-06-03 -2.389347 -0.791677  1.864332 -2.078145\n",
       "2012-06-04  0.701684 -0.495531 -1.001909 -0.514575\n",
       "2012-06-05 -1.113315  0.114260  0.411386 -0.523646\n",
       "2012-06-06  0.474331  1.476936  0.308228 -0.038482\n",
       "2012-06-07  0.592223 -1.305360 -0.372611  2.713747\n",
       "2012-06-08 -0.355002 -1.139501 -0.661798  0.054908\n",
       "2012-06-09  1.158736 -0.986318  0.859505  1.113772\n",
       "2012-06-10 -0.079099 -1.296130  0.980639  0.169392\n",
       "2012-06-11 -0.419815  0.221524  0.674725 -1.366135"
      ]
     },
     "execution_count": 10,
     "metadata": {},
     "output_type": "execute_result"
    }
   ],
   "source": [
    "df"
   ]
  },
  {
   "cell_type": "code",
   "execution_count": 18,
   "metadata": {},
   "outputs": [
    {
     "data": {
      "text/plain": [
       "A    0.474331\n",
       "B    1.476936\n",
       "C    0.308228\n",
       "D   -0.038482\n",
       "Name: 2012-06-06 00:00:00, dtype: float64"
      ]
     },
     "execution_count": 18,
     "metadata": {},
     "output_type": "execute_result"
    }
   ],
   "source": [
    "df.iloc[3]#3rd row"
   ]
  },
  {
   "cell_type": "code",
   "execution_count": 21,
   "metadata": {},
   "outputs": [
    {
     "data": {
      "text/html": [
       "<div>\n",
       "<style scoped>\n",
       "    .dataframe tbody tr th:only-of-type {\n",
       "        vertical-align: middle;\n",
       "    }\n",
       "\n",
       "    .dataframe tbody tr th {\n",
       "        vertical-align: top;\n",
       "    }\n",
       "\n",
       "    .dataframe thead th {\n",
       "        text-align: right;\n",
       "    }\n",
       "</style>\n",
       "<table border=\"1\" class=\"dataframe\">\n",
       "  <thead>\n",
       "    <tr style=\"text-align: right;\">\n",
       "      <th></th>\n",
       "      <th>A</th>\n",
       "      <th>B</th>\n",
       "    </tr>\n",
       "  </thead>\n",
       "  <tbody>\n",
       "    <tr>\n",
       "      <th>2012-06-04</th>\n",
       "      <td>0.701684</td>\n",
       "      <td>-0.495531</td>\n",
       "    </tr>\n",
       "    <tr>\n",
       "      <th>2012-06-05</th>\n",
       "      <td>-1.113315</td>\n",
       "      <td>0.114260</td>\n",
       "    </tr>\n",
       "    <tr>\n",
       "      <th>2012-06-06</th>\n",
       "      <td>0.474331</td>\n",
       "      <td>1.476936</td>\n",
       "    </tr>\n",
       "    <tr>\n",
       "      <th>2012-06-07</th>\n",
       "      <td>0.592223</td>\n",
       "      <td>-1.305360</td>\n",
       "    </tr>\n",
       "  </tbody>\n",
       "</table>\n",
       "</div>"
      ],
      "text/plain": [
       "                   A         B\n",
       "2012-06-04  0.701684 -0.495531\n",
       "2012-06-05 -1.113315  0.114260\n",
       "2012-06-06  0.474331  1.476936\n",
       "2012-06-07  0.592223 -1.305360"
      ]
     },
     "execution_count": 21,
     "metadata": {},
     "output_type": "execute_result"
    }
   ],
   "source": [
    "df.iloc[1:5,0:2]#1,2,3,4-row & 0,1-column"
   ]
  },
  {
   "cell_type": "code",
   "execution_count": 25,
   "metadata": {},
   "outputs": [
    {
     "data": {
      "text/plain": [
       "-0.49553096130573193"
      ]
     },
     "execution_count": 25,
     "metadata": {},
     "output_type": "execute_result"
    }
   ],
   "source": [
    "df.iat[1,1]"
   ]
  },
  {
   "cell_type": "code",
   "execution_count": 11,
   "metadata": {},
   "outputs": [
    {
     "data": {
      "text/html": [
       "<div>\n",
       "<style scoped>\n",
       "    .dataframe tbody tr th:only-of-type {\n",
       "        vertical-align: middle;\n",
       "    }\n",
       "\n",
       "    .dataframe tbody tr th {\n",
       "        vertical-align: top;\n",
       "    }\n",
       "\n",
       "    .dataframe thead th {\n",
       "        text-align: right;\n",
       "    }\n",
       "</style>\n",
       "<table border=\"1\" class=\"dataframe\">\n",
       "  <thead>\n",
       "    <tr style=\"text-align: right;\">\n",
       "      <th></th>\n",
       "      <th>year</th>\n",
       "      <th>state</th>\n",
       "      <th>month</th>\n",
       "      <th>number</th>\n",
       "      <th>date</th>\n",
       "    </tr>\n",
       "  </thead>\n",
       "  <tbody>\n",
       "    <tr>\n",
       "      <th>0</th>\n",
       "      <td>1998</td>\n",
       "      <td>Acre</td>\n",
       "      <td>January</td>\n",
       "      <td>0.0</td>\n",
       "      <td>1998-01-01</td>\n",
       "    </tr>\n",
       "    <tr>\n",
       "      <th>1</th>\n",
       "      <td>1999</td>\n",
       "      <td>Acre</td>\n",
       "      <td>January</td>\n",
       "      <td>0.0</td>\n",
       "      <td>1999-01-01</td>\n",
       "    </tr>\n",
       "    <tr>\n",
       "      <th>2</th>\n",
       "      <td>2000</td>\n",
       "      <td>Acre</td>\n",
       "      <td>January</td>\n",
       "      <td>0.0</td>\n",
       "      <td>2000-01-01</td>\n",
       "    </tr>\n",
       "    <tr>\n",
       "      <th>3</th>\n",
       "      <td>2001</td>\n",
       "      <td>Acre</td>\n",
       "      <td>January</td>\n",
       "      <td>0.0</td>\n",
       "      <td>2001-01-01</td>\n",
       "    </tr>\n",
       "    <tr>\n",
       "      <th>4</th>\n",
       "      <td>2002</td>\n",
       "      <td>Acre</td>\n",
       "      <td>January</td>\n",
       "      <td>0.0</td>\n",
       "      <td>2002-01-01</td>\n",
       "    </tr>\n",
       "  </tbody>\n",
       "</table>\n",
       "</div>"
      ],
      "text/plain": [
       "   year state    month  number       date\n",
       "0  1998  Acre  January     0.0 1998-01-01\n",
       "1  1999  Acre  January     0.0 1999-01-01\n",
       "2  2000  Acre  January     0.0 2000-01-01\n",
       "3  2001  Acre  January     0.0 2001-01-01\n",
       "4  2002  Acre  January     0.0 2002-01-01"
      ]
     },
     "execution_count": 11,
     "metadata": {},
     "output_type": "execute_result"
    }
   ],
   "source": [
    "import pandas as pd\n",
    "import matplotlib.pyplot as plt\n",
    "df = pd.read_excel(\"amazon.xlsx\")\n",
    "df.head()"
   ]
  },
  {
   "cell_type": "markdown",
   "metadata": {},
   "source": [
    "An ndarray is a (usually fixed-size) multidimensional container of items of the same type and size.The number\n",
    "of dimensions and items in an array is defined by its shape, which is a tuple of N positive integers that specify\n",
    "the sizes of each dimension. The type of items in the array is specified by a separate data-type object (dtype), one of\n",
    "which is associated with each ndarray."
   ]
  },
  {
   "cell_type": "code",
   "execution_count": 9,
   "metadata": {},
   "outputs": [],
   "source": [
    "import numpy as np\n",
    "a = np.array([[1,2,3],[4,5,6]],np.int32)"
   ]
  },
  {
   "cell_type": "code",
   "execution_count": 8,
   "metadata": {},
   "outputs": [
    {
     "data": {
      "text/plain": [
       "(2, 3)"
      ]
     },
     "execution_count": 8,
     "metadata": {},
     "output_type": "execute_result"
    }
   ],
   "source": [
    "# To find its shape \n",
    "#first number represent no of rows and second is no of columns\n",
    "a.shape"
   ]
  },
  {
   "cell_type": "code",
   "execution_count": 7,
   "metadata": {},
   "outputs": [
    {
     "data": {
      "text/plain": [
       "numpy.ndarray"
      ]
     },
     "execution_count": 7,
     "metadata": {},
     "output_type": "execute_result"
    }
   ],
   "source": [
    "# To find its type\n",
    "type(a)"
   ]
  },
  {
   "cell_type": "code",
   "execution_count": 10,
   "metadata": {},
   "outputs": [
    {
     "data": {
      "text/plain": [
       "dtype('int32')"
      ]
     },
     "execution_count": 10,
     "metadata": {},
     "output_type": "execute_result"
    }
   ],
   "source": [
    "# To find data type\n",
    "a.dtype"
   ]
  },
  {
   "cell_type": "code",
   "execution_count": 13,
   "metadata": {},
   "outputs": [
    {
     "data": {
      "text/plain": [
       "array([1, 2, 3])"
      ]
     },
     "execution_count": 13,
     "metadata": {},
     "output_type": "execute_result"
    }
   ],
   "source": [
    "# Print first row\n",
    "a[0,:]"
   ]
  },
  {
   "cell_type": "code",
   "execution_count": 14,
   "metadata": {},
   "outputs": [
    {
     "data": {
      "text/plain": [
       "array([4, 5, 6])"
      ]
     },
     "execution_count": 14,
     "metadata": {},
     "output_type": "execute_result"
    }
   ],
   "source": [
    "# Print second row\n",
    "a[1,:]"
   ]
  },
  {
   "cell_type": "code",
   "execution_count": 15,
   "metadata": {},
   "outputs": [
    {
     "data": {
      "text/plain": [
       "array([1, 4])"
      ]
     },
     "execution_count": 15,
     "metadata": {},
     "output_type": "execute_result"
    }
   ],
   "source": [
    "#Print first column\n",
    "a[:,0]"
   ]
  },
  {
   "cell_type": "code",
   "execution_count": 16,
   "metadata": {},
   "outputs": [
    {
     "data": {
      "text/plain": [
       "array([2, 5])"
      ]
     },
     "execution_count": 16,
     "metadata": {},
     "output_type": "execute_result"
    }
   ],
   "source": [
    "# Print second column\n",
    "a[:,1]"
   ]
  },
  {
   "cell_type": "code",
   "execution_count": 17,
   "metadata": {},
   "outputs": [
    {
     "data": {
      "text/plain": [
       "array([[1, 2, 3],\n",
       "       [4, 5, 6]])"
      ]
     },
     "execution_count": 17,
     "metadata": {},
     "output_type": "execute_result"
    }
   ],
   "source": [
    "# Print all elements\n",
    "a[:]"
   ]
  },
  {
   "cell_type": "code",
   "execution_count": 18,
   "metadata": {},
   "outputs": [
    {
     "data": {
      "text/plain": [
       "3"
      ]
     },
     "execution_count": 18,
     "metadata": {},
     "output_type": "execute_result"
    }
   ],
   "source": [
    "# To access first row and third column element\n",
    "a[0,2]"
   ]
  },
  {
   "cell_type": "code",
   "execution_count": 21,
   "metadata": {},
   "outputs": [
    {
     "data": {
      "text/plain": [
       "array([2, 5])"
      ]
     },
     "execution_count": 21,
     "metadata": {},
     "output_type": "execute_result"
    }
   ],
   "source": [
    "# store 2nd column of a in y \n",
    "y = a[:,1]\n",
    "y"
   ]
  },
  {
   "cell_type": "code",
   "execution_count": 22,
   "metadata": {},
   "outputs": [
    {
     "data": {
      "text/plain": [
       "array([10,  5])"
      ]
     },
     "execution_count": 22,
     "metadata": {},
     "output_type": "execute_result"
    }
   ],
   "source": [
    "# change first element in y \n",
    "# this also changes the corresponding element in x\n",
    "y[0] = 10\n",
    "y"
   ]
  },
  {
   "cell_type": "code",
   "execution_count": 23,
   "metadata": {},
   "outputs": [
    {
     "data": {
      "text/plain": [
       "array([[ 1, 10,  3],\n",
       "       [ 4,  5,  6]])"
      ]
     },
     "execution_count": 23,
     "metadata": {},
     "output_type": "execute_result"
    }
   ],
   "source": [
    "a"
   ]
  },
  {
   "cell_type": "code",
   "execution_count": 24,
   "metadata": {},
   "outputs": [
    {
     "data": {
      "text/plain": [
       "4"
      ]
     },
     "execution_count": 24,
     "metadata": {},
     "output_type": "execute_result"
    }
   ],
   "source": [
    "# Length of one array element in bytes\n",
    "a.itemsize"
   ]
  },
  {
   "cell_type": "code",
   "execution_count": 25,
   "metadata": {},
   "outputs": [
    {
     "data": {
      "text/plain": [
       "2"
      ]
     },
     "execution_count": 25,
     "metadata": {},
     "output_type": "execute_result"
    }
   ],
   "source": [
    "# Number of array dimensions\n",
    "a.ndim"
   ]
  },
  {
   "cell_type": "code",
   "execution_count": 26,
   "metadata": {},
   "outputs": [
    {
     "data": {
      "text/plain": [
       "array([[ 1,  4],\n",
       "       [10,  5],\n",
       "       [ 3,  6]])"
      ]
     },
     "execution_count": 26,
     "metadata": {},
     "output_type": "execute_result"
    }
   ],
   "source": [
    "# Transpose of matrix\n",
    "a.T"
   ]
  },
  {
   "cell_type": "code",
   "execution_count": 13,
   "metadata": {},
   "outputs": [
    {
     "data": {
      "text/plain": [
       "array([[1, 2, 3],\n",
       "       [4, 5, 6],\n",
       "       [7, 8, 9]])"
      ]
     },
     "execution_count": 13,
     "metadata": {},
     "output_type": "execute_result"
    }
   ],
   "source": [
    "import numpy as np\n",
    "a = np.arange(1,10).reshape(3,3) # construct 3*3 matrix from elements 1 to 10\n",
    "a\n"
   ]
  },
  {
   "cell_type": "code",
   "execution_count": 17,
   "metadata": {},
   "outputs": [
    {
     "data": {
      "text/plain": [
       "array([[1, 1, 3],\n",
       "       [4, 1, 6],\n",
       "       [7, 1, 9]])"
      ]
     },
     "execution_count": 17,
     "metadata": {},
     "output_type": "execute_result"
    }
   ],
   "source": [
    "# Return a copy of the array in one dimension\n",
    "a.flat;\n",
    "# An assignment example\n",
    "a.flat[[1,4,7]] = 1; # changing 1st,4th,7th element to 1\n",
    "a"
   ]
  },
  {
   "cell_type": "code",
   "execution_count": 20,
   "metadata": {},
   "outputs": [
    {
     "data": {
      "text/plain": [
       "array([[[0., 0.],\n",
       "        [0., 0.],\n",
       "        [0., 0.],\n",
       "        [0., 0.],\n",
       "        [0., 0.]],\n",
       "\n",
       "       [[0., 0.],\n",
       "        [0., 0.],\n",
       "        [0., 0.],\n",
       "        [0., 0.],\n",
       "        [0., 0.]],\n",
       "\n",
       "       [[0., 0.],\n",
       "        [0., 0.],\n",
       "        [0., 0.],\n",
       "        [0., 0.],\n",
       "        [0., 0.]]])"
      ]
     },
     "execution_count": 20,
     "metadata": {},
     "output_type": "execute_result"
    }
   ],
   "source": [
    "b = np.zeros((3,5,2),dtype = np.float64)\n",
    "b"
   ]
  },
  {
   "cell_type": "code",
   "execution_count": 23,
   "metadata": {},
   "outputs": [
    {
     "data": {
      "text/plain": [
       "240"
      ]
     },
     "execution_count": 23,
     "metadata": {},
     "output_type": "execute_result"
    }
   ],
   "source": [
    "b.size # return total elements \n",
    "b.itemsize # Length of one array element in bytes\n",
    "b.nbytes # Total bytes consumed by the elements of the array."
   ]
  },
  {
   "cell_type": "code",
   "execution_count": null,
   "metadata": {},
   "outputs": [],
   "source": []
  },
  {
   "cell_type": "code",
   "execution_count": null,
   "metadata": {},
   "outputs": [],
   "source": []
  },
  {
   "cell_type": "code",
   "execution_count": null,
   "metadata": {},
   "outputs": [],
   "source": []
  },
  {
   "cell_type": "code",
   "execution_count": null,
   "metadata": {},
   "outputs": [],
   "source": []
  },
  {
   "cell_type": "code",
   "execution_count": null,
   "metadata": {},
   "outputs": [],
   "source": []
  },
  {
   "cell_type": "code",
   "execution_count": null,
   "metadata": {},
   "outputs": [],
   "source": []
  },
  {
   "cell_type": "code",
   "execution_count": null,
   "metadata": {},
   "outputs": [],
   "source": []
  },
  {
   "cell_type": "code",
   "execution_count": null,
   "metadata": {},
   "outputs": [],
   "source": []
  },
  {
   "cell_type": "code",
   "execution_count": null,
   "metadata": {},
   "outputs": [],
   "source": []
  },
  {
   "cell_type": "code",
   "execution_count": null,
   "metadata": {},
   "outputs": [],
   "source": []
  }
 ],
 "metadata": {
  "kernelspec": {
   "display_name": "Python 3",
   "language": "python",
   "name": "python3"
  },
  "language_info": {
   "codemirror_mode": {
    "name": "ipython",
    "version": 3
   },
   "file_extension": ".py",
   "mimetype": "text/x-python",
   "name": "python",
   "nbconvert_exporter": "python",
   "pygments_lexer": "ipython3",
   "version": "3.7.3"
  }
 },
 "nbformat": 4,
 "nbformat_minor": 2
}
