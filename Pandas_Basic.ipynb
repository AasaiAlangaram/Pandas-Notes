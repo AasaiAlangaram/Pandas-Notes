{
 "cells": [
  {
   "cell_type": "markdown",
   "metadata": {},
   "source": [
    "Pandas\n",
    "\n",
    "Series are used to work with one dimensional array, whereas DataFrame can be used with two dimensional arrays. DataFrame has two different index i.e.column-index and row-index."
   ]
  },
  {
   "cell_type": "code",
   "execution_count": 12,
   "metadata": {},
   "outputs": [
    {
     "name": "stdout",
     "output_type": "stream",
     "text": [
      "name             aasai\n",
      "age                 23\n",
      "profession    Engineer\n",
      "Loaction         Korea\n",
      "dtype: object\n"
     ]
    },
    {
     "data": {
      "text/plain": [
       "pandas.core.series.Series"
      ]
     },
     "execution_count": 12,
     "metadata": {},
     "output_type": "execute_result"
    }
   ],
   "source": [
    "import pandas as pd\n",
    "\n",
    "#converting tuple to series\n",
    "tuple_data = ('aasai',23,'Engineer','Korea')\n",
    "series = pd.Series(tuple_data,index=['name','age','profession','Loaction'])\n",
    "print(series)\n",
    "type(series)\n"
   ]
  },
  {
   "cell_type": "code",
   "execution_count": 6,
   "metadata": {
    "scrolled": true
   },
   "outputs": [
    {
     "name": "stdout",
     "output_type": "stream",
     "text": [
      "name             aasai\n",
      "age                 23\n",
      "Profession    Engineer\n",
      "Location         Korea\n",
      "dtype: object\n"
     ]
    },
    {
     "data": {
      "text/plain": [
       "pandas.core.series.Series"
      ]
     },
     "execution_count": 6,
     "metadata": {},
     "output_type": "execute_result"
    }
   ],
   "source": [
    "#converting dictionary to series\n",
    "\n",
    "dict_data = {'name':'aasai','age':23,'Profession':'Engineer','Location':'Korea'}\n",
    "series = pd.Series(dict_data)\n",
    "print(series)\n",
    "type(series)"
   ]
  },
  {
   "cell_type": "code",
   "execution_count": 29,
   "metadata": {},
   "outputs": [
    {
     "data": {
      "text/plain": [
       "'aasai'"
      ]
     },
     "execution_count": 29,
     "metadata": {},
     "output_type": "execute_result"
    }
   ],
   "source": [
    "#Elements of the Series can be accessed using index name e.g. f[‘shares’] or f[0]\n",
    "\n",
    "dict_data['name']\n",
    "tuple_data[0]"
   ]
  },
  {
   "cell_type": "code",
   "execution_count": 32,
   "metadata": {},
   "outputs": [
    {
     "name": "stdout",
     "output_type": "stream",
     "text": [
      "          name  age Profession       native\n",
      "one      aasai   23   Engineer   Coimbatore\n",
      "two    praveen   23   Engineer    Mayavaram\n",
      "three    nanda   23   Engineer  Thiruvallur\n"
     ]
    }
   ],
   "source": [
    "data = {'name':['aasai','praveen','nanda'],\n",
    "       'age':[23,23,23],\n",
    "       'Profession':['Engineer','Engineer','Engineer'],\n",
    "       'native':['Coimbatore','Mayavaram','Thiruvallur']\n",
    "       }\n",
    "Data_frame = pd.DataFrame(data,index=['one','two','three'])\n",
    "print(Data_frame)"
   ]
  },
  {
   "cell_type": "code",
   "execution_count": 33,
   "metadata": {},
   "outputs": [
    {
     "data": {
      "text/plain": [
       "pandas.core.frame.DataFrame"
      ]
     },
     "execution_count": 33,
     "metadata": {},
     "output_type": "execute_result"
    }
   ],
   "source": [
    "type(Data_frame)"
   ]
  },
  {
   "cell_type": "code",
   "execution_count": 35,
   "metadata": {},
   "outputs": [
    {
     "name": "stdout",
     "output_type": "stream",
     "text": [
      "          name  age Profession       native country\n",
      "one      aasai   23   Engineer   Coimbatore   India\n",
      "two    praveen   23   Engineer    Mayavaram   India\n",
      "three    nanda   23   Engineer  Thiruvallur   India\n"
     ]
    }
   ],
   "source": [
    "#Added Additional Column\n",
    "Data_frame['country'] = ['India','India','India']\n",
    "print(Data_frame)"
   ]
  },
  {
   "cell_type": "code",
   "execution_count": 46,
   "metadata": {},
   "outputs": [
    {
     "data": {
      "text/plain": [
       "name               aasai\n",
       "age                   23\n",
       "Profession      Engineer\n",
       "native        Coimbatore\n",
       "country            India\n",
       "Name: one, dtype: object"
      ]
     },
     "execution_count": 46,
     "metadata": {},
     "output_type": "execute_result"
    }
   ],
   "source": [
    "#.loc for label based indexing or\n",
    "#.iloc for positional indexing\n",
    "Data_frame.loc['one']\n",
    "Data_frame.iloc[0]"
   ]
  },
  {
   "cell_type": "code",
   "execution_count": 53,
   "metadata": {},
   "outputs": [
    {
     "data": {
      "text/plain": [
       "one        aasai\n",
       "two      praveen\n",
       "three      nanda\n",
       "Name: name, dtype: object"
      ]
     },
     "execution_count": 53,
     "metadata": {},
     "output_type": "execute_result"
    }
   ],
   "source": [
    "#All rows and first column access\n",
    "Data_frame.iloc[:,0]\n",
    "Data_frame.loc[:,'name']"
   ]
  },
  {
   "cell_type": "code",
   "execution_count": 49,
   "metadata": {},
   "outputs": [
    {
     "data": {
      "text/plain": [
       "name               aasai\n",
       "age                   23\n",
       "Profession      Engineer\n",
       "native        Coimbatore\n",
       "country            India\n",
       "Name: one, dtype: object"
      ]
     },
     "execution_count": 49,
     "metadata": {},
     "output_type": "execute_result"
    }
   ],
   "source": [
    "#All column and First row access\n",
    "Data_frame.iloc[0,:]\n",
    "Data_frame.loc['one',:]"
   ]
  },
  {
   "cell_type": "code",
   "execution_count": 57,
   "metadata": {},
   "outputs": [
    {
     "data": {
      "text/plain": [
       "23"
      ]
     },
     "execution_count": 57,
     "metadata": {},
     "output_type": "execute_result"
    }
   ],
   "source": [
    "#Access first row and third column syntax for accessing specific data\n",
    "Data_frame.iloc[0,2]\n",
    "#output : Engineer\n",
    "Data_frame.loc['one','age']"
   ]
  },
  {
   "cell_type": "code",
   "execution_count": 58,
   "metadata": {},
   "outputs": [
    {
     "data": {
      "text/html": [
       "<div>\n",
       "<style scoped>\n",
       "    .dataframe tbody tr th:only-of-type {\n",
       "        vertical-align: middle;\n",
       "    }\n",
       "\n",
       "    .dataframe tbody tr th {\n",
       "        vertical-align: top;\n",
       "    }\n",
       "\n",
       "    .dataframe thead th {\n",
       "        text-align: right;\n",
       "    }\n",
       "</style>\n",
       "<table border=\"1\" class=\"dataframe\">\n",
       "  <thead>\n",
       "    <tr style=\"text-align: right;\">\n",
       "      <th></th>\n",
       "      <th>name</th>\n",
       "      <th>age</th>\n",
       "      <th>native</th>\n",
       "      <th>country</th>\n",
       "    </tr>\n",
       "  </thead>\n",
       "  <tbody>\n",
       "    <tr>\n",
       "      <th>one</th>\n",
       "      <td>aasai</td>\n",
       "      <td>23</td>\n",
       "      <td>Coimbatore</td>\n",
       "      <td>India</td>\n",
       "    </tr>\n",
       "    <tr>\n",
       "      <th>two</th>\n",
       "      <td>praveen</td>\n",
       "      <td>23</td>\n",
       "      <td>Mayavaram</td>\n",
       "      <td>India</td>\n",
       "    </tr>\n",
       "    <tr>\n",
       "      <th>three</th>\n",
       "      <td>nanda</td>\n",
       "      <td>23</td>\n",
       "      <td>Thiruvallur</td>\n",
       "      <td>India</td>\n",
       "    </tr>\n",
       "  </tbody>\n",
       "</table>\n",
       "</div>"
      ],
      "text/plain": [
       "          name  age       native country\n",
       "one      aasai   23   Coimbatore   India\n",
       "two    praveen   23    Mayavaram   India\n",
       "three    nanda   23  Thiruvallur   India"
      ]
     },
     "execution_count": 58,
     "metadata": {},
     "output_type": "execute_result"
    }
   ],
   "source": [
    "#delete Profession column usingg del command\n",
    "del Data_frame['Profession']\n",
    "Data_frame"
   ]
  },
  {
   "cell_type": "code",
   "execution_count": 80,
   "metadata": {},
   "outputs": [
    {
     "data": {
      "text/html": [
       "<div>\n",
       "<style scoped>\n",
       "    .dataframe tbody tr th:only-of-type {\n",
       "        vertical-align: middle;\n",
       "    }\n",
       "\n",
       "    .dataframe tbody tr th {\n",
       "        vertical-align: top;\n",
       "    }\n",
       "\n",
       "    .dataframe thead th {\n",
       "        text-align: right;\n",
       "    }\n",
       "</style>\n",
       "<table border=\"1\" class=\"dataframe\">\n",
       "  <thead>\n",
       "    <tr style=\"text-align: right;\">\n",
       "      <th></th>\n",
       "      <th>name</th>\n",
       "      <th>age</th>\n",
       "      <th>native</th>\n",
       "      <th>country</th>\n",
       "    </tr>\n",
       "  </thead>\n",
       "  <tbody>\n",
       "    <tr>\n",
       "      <th>one</th>\n",
       "      <td>aasai</td>\n",
       "      <td>23</td>\n",
       "      <td>Madurai</td>\n",
       "      <td>India</td>\n",
       "    </tr>\n",
       "    <tr>\n",
       "      <th>two</th>\n",
       "      <td>praveen</td>\n",
       "      <td>23</td>\n",
       "      <td>Mayavaram</td>\n",
       "      <td>India</td>\n",
       "    </tr>\n",
       "    <tr>\n",
       "      <th>three</th>\n",
       "      <td>nanda</td>\n",
       "      <td>23</td>\n",
       "      <td>Thiruvallur</td>\n",
       "      <td>India</td>\n",
       "    </tr>\n",
       "  </tbody>\n",
       "</table>\n",
       "</div>"
      ],
      "text/plain": [
       "          name  age       native country\n",
       "one      aasai   23      Madurai   India\n",
       "two    praveen   23    Mayavaram   India\n",
       "three    nanda   23  Thiruvallur   India"
      ]
     },
     "execution_count": 80,
     "metadata": {},
     "output_type": "execute_result"
    }
   ],
   "source": [
    "#Replace Aasai native to madurai using replace\n",
    "Data_frame.replace(to_replace = 'Coimbatore',value = 'Madurai')\n",
    "#Replace using location\n",
    "Data_frame.loc['one','native'] = 'Madurai'\n",
    "Data_frame"
   ]
  },
  {
   "cell_type": "code",
   "execution_count": null,
   "metadata": {},
   "outputs": [],
   "source": []
  },
  {
   "cell_type": "code",
   "execution_count": null,
   "metadata": {},
   "outputs": [],
   "source": []
  },
  {
   "cell_type": "code",
   "execution_count": null,
   "metadata": {},
   "outputs": [],
   "source": []
  },
  {
   "cell_type": "code",
   "execution_count": null,
   "metadata": {},
   "outputs": [],
   "source": []
  }
 ],
 "metadata": {
  "kernelspec": {
   "display_name": "Python 3",
   "language": "python",
   "name": "python3"
  },
  "language_info": {
   "codemirror_mode": {
    "name": "ipython",
    "version": 3
   },
   "file_extension": ".py",
   "mimetype": "text/x-python",
   "name": "python",
   "nbconvert_exporter": "python",
   "pygments_lexer": "ipython3",
   "version": "3.7.3"
  }
 },
 "nbformat": 4,
 "nbformat_minor": 2
}
