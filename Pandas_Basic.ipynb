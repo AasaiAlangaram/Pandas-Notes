{
 "cells": [
  {
   "cell_type": "markdown",
   "metadata": {},
   "source": [
    "Pandas\n",
    "\n",
    "Series are used to work with one dimensional array, whereas DataFrame can be used with two dimensional arrays. DataFrame has two different index i.e.column-index and row-index."
   ]
  },
  {
   "cell_type": "code",
   "execution_count": 12,
   "metadata": {},
   "outputs": [
    {
     "name": "stdout",
     "output_type": "stream",
     "text": [
      "name             aasai\n",
      "age                 23\n",
      "profession    Engineer\n",
      "Loaction         Korea\n",
      "dtype: object\n"
     ]
    },
    {
     "data": {
      "text/plain": [
       "pandas.core.series.Series"
      ]
     },
     "execution_count": 12,
     "metadata": {},
     "output_type": "execute_result"
    }
   ],
   "source": [
    "import pandas as pd\n",
    "\n",
    "#converting tuple to series\n",
    "tuple_data = ('aasai',23,'Engineer','Korea')\n",
    "series = pd.Series(tuple_data,index=['name','age','profession','Loaction'])\n",
    "print(series)\n",
    "type(series)\n"
   ]
  },
  {
   "cell_type": "code",
   "execution_count": 6,
   "metadata": {
    "scrolled": true
   },
   "outputs": [
    {
     "name": "stdout",
     "output_type": "stream",
     "text": [
      "name             aasai\n",
      "age                 23\n",
      "Profession    Engineer\n",
      "Location         Korea\n",
      "dtype: object\n"
     ]
    },
    {
     "data": {
      "text/plain": [
       "pandas.core.series.Series"
      ]
     },
     "execution_count": 6,
     "metadata": {},
     "output_type": "execute_result"
    }
   ],
   "source": [
    "#converting dictionary to series\n",
    "\n",
    "dict_data = {'name':'aasai','age':23,'Profession':'Engineer','Location':'Korea'}\n",
    "series = pd.Series(dict_data)\n",
    "print(series)\n",
    "type(series)"
   ]
  },
  {
   "cell_type": "code",
   "execution_count": 29,
   "metadata": {},
   "outputs": [
    {
     "data": {
      "text/plain": [
       "'aasai'"
      ]
     },
     "execution_count": 29,
     "metadata": {},
     "output_type": "execute_result"
    }
   ],
   "source": [
    "#Elements of the Series can be accessed using index name e.g. f[‘shares’] or f[0]\n",
    "\n",
    "dict_data['name']\n",
    "tuple_data[0]"
   ]
  },
  {
   "cell_type": "code",
   "execution_count": 32,
   "metadata": {},
   "outputs": [
    {
     "name": "stdout",
     "output_type": "stream",
     "text": [
      "          name  age Profession       native\n",
      "one      aasai   23   Engineer   Coimbatore\n",
      "two    praveen   23   Engineer    Mayavaram\n",
      "three    nanda   23   Engineer  Thiruvallur\n"
     ]
    }
   ],
   "source": [
    "data = {'name':['aasai','praveen','nanda'],\n",
    "       'age':[23,23,23],\n",
    "       'Profession':['Engineer','Engineer','Engineer'],\n",
    "       'native':['Coimbatore','Mayavaram','Thiruvallur']\n",
    "       }\n",
    "Data_frame = pd.DataFrame(data,index=['one','two','three'])\n",
    "print(Data_frame)"
   ]
  },
  {
   "cell_type": "code",
   "execution_count": 33,
   "metadata": {},
   "outputs": [
    {
     "data": {
      "text/plain": [
       "pandas.core.frame.DataFrame"
      ]
     },
     "execution_count": 33,
     "metadata": {},
     "output_type": "execute_result"
    }
   ],
   "source": [
    "type(Data_frame)"
   ]
  },
  {
   "cell_type": "code",
   "execution_count": 35,
   "metadata": {},
   "outputs": [
    {
     "name": "stdout",
     "output_type": "stream",
     "text": [
      "          name  age Profession       native country\n",
      "one      aasai   23   Engineer   Coimbatore   India\n",
      "two    praveen   23   Engineer    Mayavaram   India\n",
      "three    nanda   23   Engineer  Thiruvallur   India\n"
     ]
    }
   ],
   "source": [
    "#Added Additional Column\n",
    "Data_frame['country'] = ['India','India','India']\n",
    "print(Data_frame)"
   ]
  },
  {
   "cell_type": "code",
   "execution_count": 46,
   "metadata": {},
   "outputs": [
    {
     "data": {
      "text/plain": [
       "name               aasai\n",
       "age                   23\n",
       "Profession      Engineer\n",
       "native        Coimbatore\n",
       "country            India\n",
       "Name: one, dtype: object"
      ]
     },
     "execution_count": 46,
     "metadata": {},
     "output_type": "execute_result"
    }
   ],
   "source": [
    "#.loc for label based indexing or\n",
    "#.iloc for positional indexing\n",
    "Data_frame.loc['one']\n",
    "Data_frame.iloc[0]"
   ]
  },
  {
   "cell_type": "code",
   "execution_count": 53,
   "metadata": {},
   "outputs": [
    {
     "data": {
      "text/plain": [
       "one        aasai\n",
       "two      praveen\n",
       "three      nanda\n",
       "Name: name, dtype: object"
      ]
     },
     "execution_count": 53,
     "metadata": {},
     "output_type": "execute_result"
    }
   ],
   "source": [
    "#All rows and first column access\n",
    "Data_frame.iloc[:,0]\n",
    "Data_frame.loc[:,'name']"
   ]
  },
  {
   "cell_type": "code",
   "execution_count": 49,
   "metadata": {},
   "outputs": [
    {
     "data": {
      "text/plain": [
       "name               aasai\n",
       "age                   23\n",
       "Profession      Engineer\n",
       "native        Coimbatore\n",
       "country            India\n",
       "Name: one, dtype: object"
      ]
     },
     "execution_count": 49,
     "metadata": {},
     "output_type": "execute_result"
    }
   ],
   "source": [
    "#All column and First row access\n",
    "Data_frame.iloc[0,:]\n",
    "Data_frame.loc['one',:]"
   ]
  },
  {
   "cell_type": "code",
   "execution_count": 57,
   "metadata": {},
   "outputs": [
    {
     "data": {
      "text/plain": [
       "23"
      ]
     },
     "execution_count": 57,
     "metadata": {},
     "output_type": "execute_result"
    }
   ],
   "source": [
    "#Access first row and third column syntax for accessing specific data\n",
    "Data_frame.iloc[0,2]\n",
    "#output : Engineer\n",
    "Data_frame.loc['one','age']"
   ]
  },
  {
   "cell_type": "code",
   "execution_count": 58,
   "metadata": {},
   "outputs": [
    {
     "data": {
      "text/html": [
       "<div>\n",
       "<style scoped>\n",
       "    .dataframe tbody tr th:only-of-type {\n",
       "        vertical-align: middle;\n",
       "    }\n",
       "\n",
       "    .dataframe tbody tr th {\n",
       "        vertical-align: top;\n",
       "    }\n",
       "\n",
       "    .dataframe thead th {\n",
       "        text-align: right;\n",
       "    }\n",
       "</style>\n",
       "<table border=\"1\" class=\"dataframe\">\n",
       "  <thead>\n",
       "    <tr style=\"text-align: right;\">\n",
       "      <th></th>\n",
       "      <th>name</th>\n",
       "      <th>age</th>\n",
       "      <th>native</th>\n",
       "      <th>country</th>\n",
       "    </tr>\n",
       "  </thead>\n",
       "  <tbody>\n",
       "    <tr>\n",
       "      <th>one</th>\n",
       "      <td>aasai</td>\n",
       "      <td>23</td>\n",
       "      <td>Coimbatore</td>\n",
       "      <td>India</td>\n",
       "    </tr>\n",
       "    <tr>\n",
       "      <th>two</th>\n",
       "      <td>praveen</td>\n",
       "      <td>23</td>\n",
       "      <td>Mayavaram</td>\n",
       "      <td>India</td>\n",
       "    </tr>\n",
       "    <tr>\n",
       "      <th>three</th>\n",
       "      <td>nanda</td>\n",
       "      <td>23</td>\n",
       "      <td>Thiruvallur</td>\n",
       "      <td>India</td>\n",
       "    </tr>\n",
       "  </tbody>\n",
       "</table>\n",
       "</div>"
      ],
      "text/plain": [
       "          name  age       native country\n",
       "one      aasai   23   Coimbatore   India\n",
       "two    praveen   23    Mayavaram   India\n",
       "three    nanda   23  Thiruvallur   India"
      ]
     },
     "execution_count": 58,
     "metadata": {},
     "output_type": "execute_result"
    }
   ],
   "source": [
    "#delete Profession column usingg del command\n",
    "del Data_frame['Profession']\n",
    "Data_frame"
   ]
  },
  {
   "cell_type": "code",
   "execution_count": 80,
   "metadata": {},
   "outputs": [
    {
     "data": {
      "text/html": [
       "<div>\n",
       "<style scoped>\n",
       "    .dataframe tbody tr th:only-of-type {\n",
       "        vertical-align: middle;\n",
       "    }\n",
       "\n",
       "    .dataframe tbody tr th {\n",
       "        vertical-align: top;\n",
       "    }\n",
       "\n",
       "    .dataframe thead th {\n",
       "        text-align: right;\n",
       "    }\n",
       "</style>\n",
       "<table border=\"1\" class=\"dataframe\">\n",
       "  <thead>\n",
       "    <tr style=\"text-align: right;\">\n",
       "      <th></th>\n",
       "      <th>name</th>\n",
       "      <th>age</th>\n",
       "      <th>native</th>\n",
       "      <th>country</th>\n",
       "    </tr>\n",
       "  </thead>\n",
       "  <tbody>\n",
       "    <tr>\n",
       "      <th>one</th>\n",
       "      <td>aasai</td>\n",
       "      <td>23</td>\n",
       "      <td>Madurai</td>\n",
       "      <td>India</td>\n",
       "    </tr>\n",
       "    <tr>\n",
       "      <th>two</th>\n",
       "      <td>praveen</td>\n",
       "      <td>23</td>\n",
       "      <td>Mayavaram</td>\n",
       "      <td>India</td>\n",
       "    </tr>\n",
       "    <tr>\n",
       "      <th>three</th>\n",
       "      <td>nanda</td>\n",
       "      <td>23</td>\n",
       "      <td>Thiruvallur</td>\n",
       "      <td>India</td>\n",
       "    </tr>\n",
       "  </tbody>\n",
       "</table>\n",
       "</div>"
      ],
      "text/plain": [
       "          name  age       native country\n",
       "one      aasai   23      Madurai   India\n",
       "two    praveen   23    Mayavaram   India\n",
       "three    nanda   23  Thiruvallur   India"
      ]
     },
     "execution_count": 80,
     "metadata": {},
     "output_type": "execute_result"
    }
   ],
   "source": [
    "#Replace Aasai native to madurai using replace\n",
    "Data_frame.replace(to_replace = 'Coimbatore',value = 'Madurai')\n",
    "#Replace using location\n",
    "Data_frame.loc['one','native'] = 'Madurai'\n",
    "Data_frame"
   ]
  },
  {
   "cell_type": "code",
   "execution_count": 88,
   "metadata": {
    "scrolled": true
   },
   "outputs": [
    {
     "data": {
      "text/plain": [
       "2019-11-01      one\n",
       "2019-11-02      Two\n",
       "2019-11-03    Three\n",
       "Freq: D, dtype: object"
      ]
     },
     "execution_count": 88,
     "metadata": {},
     "output_type": "execute_result"
    }
   ],
   "source": [
    "#Creating a Series by passing a list of values and set index by series of date\n",
    "series = pd.Series(['one','Two','Three'],index = pd.date_range('20191101',periods=3))\n",
    "series"
   ]
  },
  {
   "cell_type": "code",
   "execution_count": 90,
   "metadata": {
    "scrolled": true
   },
   "outputs": [
    {
     "data": {
      "text/html": [
       "<div>\n",
       "<style scoped>\n",
       "    .dataframe tbody tr th:only-of-type {\n",
       "        vertical-align: middle;\n",
       "    }\n",
       "\n",
       "    .dataframe tbody tr th {\n",
       "        vertical-align: top;\n",
       "    }\n",
       "\n",
       "    .dataframe thead th {\n",
       "        text-align: right;\n",
       "    }\n",
       "</style>\n",
       "<table border=\"1\" class=\"dataframe\">\n",
       "  <thead>\n",
       "    <tr style=\"text-align: right;\">\n",
       "      <th></th>\n",
       "      <th>0</th>\n",
       "      <th>1</th>\n",
       "      <th>2</th>\n",
       "      <th>3</th>\n",
       "    </tr>\n",
       "  </thead>\n",
       "  <tbody>\n",
       "    <tr>\n",
       "      <th>2019-11-01</th>\n",
       "      <td>0.596539</td>\n",
       "      <td>-0.712745</td>\n",
       "      <td>2.981427</td>\n",
       "      <td>-0.320373</td>\n",
       "    </tr>\n",
       "    <tr>\n",
       "      <th>2019-11-02</th>\n",
       "      <td>1.413271</td>\n",
       "      <td>-0.748839</td>\n",
       "      <td>1.415216</td>\n",
       "      <td>-0.436360</td>\n",
       "    </tr>\n",
       "    <tr>\n",
       "      <th>2019-11-03</th>\n",
       "      <td>-0.356902</td>\n",
       "      <td>0.050044</td>\n",
       "      <td>-0.585696</td>\n",
       "      <td>1.437954</td>\n",
       "    </tr>\n",
       "    <tr>\n",
       "      <th>2019-11-04</th>\n",
       "      <td>-1.296200</td>\n",
       "      <td>-1.219660</td>\n",
       "      <td>0.532947</td>\n",
       "      <td>-0.543326</td>\n",
       "    </tr>\n",
       "    <tr>\n",
       "      <th>2019-11-05</th>\n",
       "      <td>-0.075037</td>\n",
       "      <td>-2.293043</td>\n",
       "      <td>-0.056860</td>\n",
       "      <td>0.806413</td>\n",
       "    </tr>\n",
       "    <tr>\n",
       "      <th>2019-11-06</th>\n",
       "      <td>-1.192664</td>\n",
       "      <td>0.965489</td>\n",
       "      <td>1.207226</td>\n",
       "      <td>0.754615</td>\n",
       "    </tr>\n",
       "  </tbody>\n",
       "</table>\n",
       "</div>"
      ],
      "text/plain": [
       "                   0         1         2         3\n",
       "2019-11-01  0.596539 -0.712745  2.981427 -0.320373\n",
       "2019-11-02  1.413271 -0.748839  1.415216 -0.436360\n",
       "2019-11-03 -0.356902  0.050044 -0.585696  1.437954\n",
       "2019-11-04 -1.296200 -1.219660  0.532947 -0.543326\n",
       "2019-11-05 -0.075037 -2.293043 -0.056860  0.806413\n",
       "2019-11-06 -1.192664  0.965489  1.207226  0.754615"
      ]
     },
     "execution_count": 90,
     "metadata": {},
     "output_type": "execute_result"
    }
   ],
   "source": [
    "#create dataframe using numpy\n",
    "import numpy as np\n",
    "data_frame = pd.DataFrame(np.random.randn(6,4),index = pd.date_range('20191101',periods = 6))\n",
    "data_frame"
   ]
  },
  {
   "cell_type": "code",
   "execution_count": 95,
   "metadata": {},
   "outputs": [
    {
     "data": {
      "text/html": [
       "<div>\n",
       "<style scoped>\n",
       "    .dataframe tbody tr th:only-of-type {\n",
       "        vertical-align: middle;\n",
       "    }\n",
       "\n",
       "    .dataframe tbody tr th {\n",
       "        vertical-align: top;\n",
       "    }\n",
       "\n",
       "    .dataframe thead th {\n",
       "        text-align: right;\n",
       "    }\n",
       "</style>\n",
       "<table border=\"1\" class=\"dataframe\">\n",
       "  <thead>\n",
       "    <tr style=\"text-align: right;\">\n",
       "      <th></th>\n",
       "      <th>a</th>\n",
       "      <th>b</th>\n",
       "      <th>c</th>\n",
       "      <th>d</th>\n",
       "    </tr>\n",
       "  </thead>\n",
       "  <tbody>\n",
       "    <tr>\n",
       "      <th>2019-11-01</th>\n",
       "      <td>0.024194</td>\n",
       "      <td>1.443655</td>\n",
       "      <td>-0.916189</td>\n",
       "      <td>0.631278</td>\n",
       "    </tr>\n",
       "    <tr>\n",
       "      <th>2019-11-02</th>\n",
       "      <td>-0.230816</td>\n",
       "      <td>-0.038641</td>\n",
       "      <td>-1.140007</td>\n",
       "      <td>-0.134891</td>\n",
       "    </tr>\n",
       "    <tr>\n",
       "      <th>2019-11-03</th>\n",
       "      <td>-0.769798</td>\n",
       "      <td>-1.295400</td>\n",
       "      <td>1.412120</td>\n",
       "      <td>-0.131342</td>\n",
       "    </tr>\n",
       "    <tr>\n",
       "      <th>2019-11-04</th>\n",
       "      <td>0.812340</td>\n",
       "      <td>1.065062</td>\n",
       "      <td>-1.076679</td>\n",
       "      <td>2.257221</td>\n",
       "    </tr>\n",
       "    <tr>\n",
       "      <th>2019-11-05</th>\n",
       "      <td>-0.538890</td>\n",
       "      <td>-0.965087</td>\n",
       "      <td>-0.310730</td>\n",
       "      <td>-1.115317</td>\n",
       "    </tr>\n",
       "    <tr>\n",
       "      <th>2019-11-06</th>\n",
       "      <td>-0.599103</td>\n",
       "      <td>-0.766934</td>\n",
       "      <td>-0.659769</td>\n",
       "      <td>-0.027627</td>\n",
       "    </tr>\n",
       "  </tbody>\n",
       "</table>\n",
       "</div>"
      ],
      "text/plain": [
       "                   a         b         c         d\n",
       "2019-11-01  0.024194  1.443655 -0.916189  0.631278\n",
       "2019-11-02 -0.230816 -0.038641 -1.140007 -0.134891\n",
       "2019-11-03 -0.769798 -1.295400  1.412120 -0.131342\n",
       "2019-11-04  0.812340  1.065062 -1.076679  2.257221\n",
       "2019-11-05 -0.538890 -0.965087 -0.310730 -1.115317\n",
       "2019-11-06 -0.599103 -0.766934 -0.659769 -0.027627"
      ]
     },
     "execution_count": 95,
     "metadata": {},
     "output_type": "execute_result"
    }
   ],
   "source": [
    "#column name added\n",
    "data_frame = pd.DataFrame(np.random.randn(6,4),index = pd.date_range('20191101',periods = 6),columns = ['a','b','c','d'])\n",
    "data_frame"
   ]
  },
  {
   "cell_type": "code",
   "execution_count": null,
   "metadata": {},
   "outputs": [],
   "source": []
  }
 ],
 "metadata": {
  "kernelspec": {
   "display_name": "Python 3",
   "language": "python",
   "name": "python3"
  },
  "language_info": {
   "codemirror_mode": {
    "name": "ipython",
    "version": 3
   },
   "file_extension": ".py",
   "mimetype": "text/x-python",
   "name": "python",
   "nbconvert_exporter": "python",
   "pygments_lexer": "ipython3",
   "version": "3.7.3"
  }
 },
 "nbformat": 4,
 "nbformat_minor": 2
}
